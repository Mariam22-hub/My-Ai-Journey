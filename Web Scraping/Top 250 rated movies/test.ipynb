{
 "cells": [
  {
   "cell_type": "code",
   "execution_count": 42,
   "metadata": {},
   "outputs": [],
   "source": [
    "import requests, openpyxl\n",
    "from bs4 import BeautifulSoup\n",
    "import lxml"
   ]
  },
  {
   "cell_type": "code",
   "execution_count": 47,
   "metadata": {},
   "outputs": [],
   "source": [
    "from logging import exception\n",
    "\n",
    "\n",
    "try:\n",
    "    source = requests.get(\"https://www.imdb.com/chart/top/\")\n",
    "    source.raise_for_status()\n",
    "\n",
    "    soup = BeautifulSoup(source.text, \"lxml\")\n",
    "\n",
    "    excel = openpyxl.Workbook()\n",
    "  \n",
    "    sheet = excel.active\n",
    "    sheet.title = \"Top rated movies\"\n",
    "\n",
    "    sheet.append([\"Rank\", \"Name\", \"Year of Release\", \"Rating\"])\n",
    "\n",
    "    movies = soup.find(\"tbody\", class_ = \"lister-list\").find_all(\"tr\")\n",
    "\n",
    "    for movie in movies:\n",
    "        name = movie.find(\"td\", class_ = \"titleColumn\").a.text\n",
    "        rank = movie.find(\"td\", class_ = \"titleColumn\").get_text(strip = True).split(\".\")[0]\n",
    "        year = movie.find(\"td\", class_ = \"titleColumn\").span.text.strip(\"()\")\n",
    "        rate = movie.find(\"td\", class_ = \"ratingColumn imdbRating\").text\n",
    "        \n",
    "        sheet.append([rank,name,year,rate])\n",
    "\n",
    "except Exception as e:\n",
    "    print (e)\n",
    "\n",
    "\n",
    "excel.save('top 250 movies')\n"
   ]
  }
 ],
 "metadata": {
  "kernelspec": {
   "display_name": "Python 3.9.12 ('base')",
   "language": "python",
   "name": "python3"
  },
  "language_info": {
   "codemirror_mode": {
    "name": "ipython",
    "version": 3
   },
   "file_extension": ".py",
   "mimetype": "text/x-python",
   "name": "python",
   "nbconvert_exporter": "python",
   "pygments_lexer": "ipython3",
   "version": "3.9.12"
  },
  "orig_nbformat": 4,
  "vscode": {
   "interpreter": {
    "hash": "91bb753b057673435fb8d6f6a083e6c818364728098c7ae050ca3a25357dd754"
   }
  }
 },
 "nbformat": 4,
 "nbformat_minor": 2
}

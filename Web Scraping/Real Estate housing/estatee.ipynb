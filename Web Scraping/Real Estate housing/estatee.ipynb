{
 "cells": [
  {
   "cell_type": "code",
   "execution_count": 8,
   "metadata": {},
   "outputs": [],
   "source": [
    "from bs4 import BeautifulSoup\n",
    "import requests\n",
    "from csv import writer\n",
    "from encodings import utf_8\n",
    "from logging import exception"
   ]
  },
  {
   "cell_type": "code",
   "execution_count": 9,
   "metadata": {},
   "outputs": [],
   "source": [
    "url = \"https://www.pararius.com/apartments/amsterdam?ac=1\"\n",
    "\n",
    "page = requests.get(url)\n",
    "page.raise_for_status()\n",
    "\n",
    "soup = BeautifulSoup(page.content, \"lxml\")\n",
    "\n",
    "lists = soup.find_all(\"section\", class_ = \"listing-search-item\")\n",
    "\n",
    "try:\n",
    "\n",
    "\n",
    "    with open(\"housing.csv\", \"w\", encoding=\"utf_8\", newline=\"\") as file:\n",
    "\n",
    "        writer = writer(file)\n",
    "        headers = [\"Title\",\"Location\", \"Price\", \"Surface Area\"]\n",
    "\n",
    "        writer.writerow(headers)\n",
    "\n",
    "        for x in lists:\n",
    "            title = x.find(\"a\", class_ = \"listing-search-item__link--title\").text\n",
    "            location = x.find(\"div\", class_ = \"listing-search-item__sub-title\").text\n",
    "            price = x.find(\"div\", class_ = \"listing-search-item__price\").text\n",
    "            area = x.find(\"li\", class_ = \"illustrated-features__item illustrated-features__item--surface-area\").text\n",
    "        \n",
    "            info = [title.strip(),location.strip(),price.strip(),area.strip()]\n",
    "            writer.writerow(info)\n",
    "\n",
    "except Exception as e:\n",
    "    print(e)"
   ]
  }
 ],
 "metadata": {
  "kernelspec": {
   "display_name": "Python 3.10.5 64-bit",
   "language": "python",
   "name": "python3"
  },
  "language_info": {
   "codemirror_mode": {
    "name": "ipython",
    "version": 3
   },
   "file_extension": ".py",
   "mimetype": "text/x-python",
   "name": "python",
   "nbconvert_exporter": "python",
   "pygments_lexer": "ipython3",
   "version": "3.10.5"
  },
  "orig_nbformat": 4,
  "vscode": {
   "interpreter": {
    "hash": "e450050b432e843bda3c41bf3272c133bfc370a7003f3e377e27f87a49ce1127"
   }
  }
 },
 "nbformat": 4,
 "nbformat_minor": 2
}
